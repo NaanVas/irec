{
 "cells": [
  {
   "cell_type": "code",
   "execution_count": 1,
   "metadata": {},
   "outputs": [],
   "source": [
    "from irec.recommendation.agents.value_functions import LinearUCB, MostPopular, GenericThompsonSampling, EGreedy\n",
    "from irec.recommendation.agents.action_selection_policies import ASPGenericGreedy, ASPGreedy, ASPEGreedy\n",
    "from irec.offline_experiments.metric_evaluators import UserCumulativeInteraction\n",
    "from irec.offline_experiments.evaluation_policies import FixedInteraction\n",
    "from irec.recommendation.agents import SimpleEnsembleAgent, SimpleAgent\n",
    "from irec.offline_experiments.metrics import Hits, EPC, Recall, ILD\n",
    "from irec.environment.loader import FullData"
   ]
  },
  {
   "cell_type": "code",
   "execution_count": 2,
   "metadata": {},
   "outputs": [],
   "source": [
    "import pandas as pd\n",
    "import numpy as np"
   ]
  },
  {
   "attachments": {},
   "cell_type": "markdown",
   "metadata": {},
   "source": [
    "## Load Dataset"
   ]
  },
  {
   "cell_type": "code",
   "execution_count": 3,
   "metadata": {},
   "outputs": [
    {
     "name": "stdout",
     "output_type": "stream",
     "text": [
      "\n",
      "Applying splitting strategy: global\n",
      "\n",
      "Test shape: (16892, 4)\n",
      "Train shape: (80393, 4)\n",
      "\n",
      "Generating x_validation and y_validation: \n",
      "Test shape: (15729, 4)\n",
      "Train shape: (61345, 4)\n"
     ]
    }
   ],
   "source": [
    "# Dataset\n",
    "dataset = {\n",
    "    'path': \"datasets/MovieLens 100k/ratings.csv\",\n",
    "    'random_seed': 0,\n",
    "    'file_delimiter': \",\",\n",
    "    'skip_head': True\n",
    "}\n",
    "# Splitting\n",
    "splitting = {'strategy': \"global\", 'train_size': 0.8, 'test_consumes': 5}\n",
    "validation = {'validation_size': 0.2}\n",
    "# Loader\n",
    "loader = FullData(dataset, splitting, validation)\n",
    "train_dataset, test_dataset, x_validation, y_validation = loader.process()"
   ]
  },
  {
   "attachments": {},
   "cell_type": "markdown",
   "metadata": {},
   "source": [
    "## Creating the agents"
   ]
  },
  {
   "cell_type": "code",
   "execution_count": 4,
   "metadata": {},
   "outputs": [],
   "source": [
    "params = {\n",
    "    \"LinearUCB\": {\"alpha\": 1.0, \"item_var\": 0.01, \"iterations\": 20, \"num_lat\": 20, \"stop_criteria\": 0.0009, \"user_var\": 0.01, \"var\": 0.05},\n",
    "    \"MostPopular\": {},\n",
    "    \"EGreedy\": {},\n",
    "    \"GenericThompsonSampling\": {\"alpha_0\": {\"LinearUCB\": 100, \"MostPopular\": 1}, \"beta_0\": {\"LinearUCB\": 100, \"MostPopular\": 1}},\n",
    "}"
   ]
  },
  {
   "cell_type": "markdown",
   "metadata": {},
   "source": [
    "### Creating the simple agents"
   ]
  },
  {
   "cell_type": "code",
   "execution_count": 17,
   "metadata": {},
   "outputs": [],
   "source": [
    "vf1 = LinearUCB(**params[\"LinearUCB\"])\n",
    "vf2 = MostPopular(**params[\"MostPopular\"])\n",
    "vf3 = EGreedy(**params[\"EGreedy\"])\n",
    "\n",
    "asp_sa = ASPGreedy()\n",
    "aspe_sa = ASPEGreedy(epsilon=0.1)\n",
    "\n",
    "agent1 = SimpleAgent(vf1, asp_sa, name=\"LinearUCB\")\n",
    "agent2 = SimpleAgent(vf2, asp_sa, name=\"MostPopular\")\n",
    "agent3 = SimpleAgent(vf3, aspe_sa, name=\"EGreedy\")"
   ]
  },
  {
   "attachments": {},
   "cell_type": "markdown",
   "metadata": {},
   "source": [
    "### Creating the Ensemble Agent"
   ]
  },
  {
   "cell_type": "code",
   "execution_count": 18,
   "metadata": {},
   "outputs": [],
   "source": [
    "asp_sea = ASPGenericGreedy()\n",
    "vf_sea = GenericThompsonSampling(**params[\"GenericThompsonSampling\"])\n",
    "ensemble_agent = SimpleEnsembleAgent(\n",
    "    agents=[agent1, agent2],\n",
    "    action_selection_policy=asp_sea,\n",
    "    name=\"EnsembleAgent\",\n",
    "    value_function=vf_sea\n",
    ")"
   ]
  },
  {
   "cell_type": "code",
   "execution_count": 19,
   "metadata": {},
   "outputs": [],
   "source": [
    "agents = [agent1, agent2, agent3, ensemble_agent]"
   ]
  },
  {
   "attachments": {},
   "cell_type": "markdown",
   "metadata": {},
   "source": [
    "## Getting the recommendations"
   ]
  },
  {
   "cell_type": "code",
   "execution_count": 20,
   "metadata": {},
   "outputs": [],
   "source": [
    "eval_policy = FixedInteraction(num_interactions=100, interaction_size=1, save_info=False)"
   ]
  },
  {
   "cell_type": "code",
   "execution_count": 21,
   "metadata": {},
   "outputs": [
    {
     "name": "stdout",
     "output_type": "stream",
     "text": [
      "LinearUCB\n",
      "Starting LinearUCB Training\n"
     ]
    },
    {
     "name": "stderr",
     "output_type": "stream",
     "text": [
      "rmse=0.800: 100%|██████████| 20/20 [00:17<00:00,  1.16it/s]\n"
     ]
    },
    {
     "name": "stdout",
     "output_type": "stream",
     "text": [
      "Ended LinearUCB Training\n"
     ]
    },
    {
     "name": "stderr",
     "output_type": "stream",
     "text": [
      "LinearUCB: 100%|██████████| 18900/18900 [00:16<00:00, 1116.64it/s]\n"
     ]
    },
    {
     "name": "stdout",
     "output_type": "stream",
     "text": [
      "MostPopular\n",
      "Starting MostPopular Training\n",
      "Ended MostPopular Training\n"
     ]
    },
    {
     "name": "stderr",
     "output_type": "stream",
     "text": [
      "MostPopular: 100%|██████████| 18900/18900 [00:02<00:00, 8415.24it/s]\n"
     ]
    },
    {
     "name": "stdout",
     "output_type": "stream",
     "text": [
      "EGreedy\n",
      "Starting EGreedy Training\n",
      "Ended EGreedy Training\n"
     ]
    },
    {
     "name": "stderr",
     "output_type": "stream",
     "text": [
      "EGreedy: 100%|██████████| 18900/18900 [00:01<00:00, 10974.61it/s]\n"
     ]
    },
    {
     "name": "stdout",
     "output_type": "stream",
     "text": [
      "EnsembleAgent\n",
      "Starting EnsembleAgent Training\n"
     ]
    },
    {
     "name": "stderr",
     "output_type": "stream",
     "text": [
      "rmse=0.800: 100%|██████████| 20/20 [00:20<00:00,  1.04s/it]\n"
     ]
    },
    {
     "name": "stdout",
     "output_type": "stream",
     "text": [
      "Ended EnsembleAgent Training\n"
     ]
    },
    {
     "name": "stderr",
     "output_type": "stream",
     "text": [
      "EnsembleAgent: 100%|██████████| 18900/18900 [00:19<00:00, 977.76it/s] \n"
     ]
    }
   ],
   "source": [
    "interactions = {}\n",
    "for agent in agents:\n",
    "    print(agent.name)\n",
    "    agent_interactions, action_info = eval_policy.evaluate(agent, train_dataset, test_dataset)\n",
    "    interactions[agent.name] = agent_interactions"
   ]
  },
  {
   "cell_type": "markdown",
   "metadata": {},
   "source": [
    "### Evaluating the models"
   ]
  },
  {
   "cell_type": "code",
   "execution_count": 22,
   "metadata": {},
   "outputs": [],
   "source": [
    "# Cumulative Evaluation Setup\n",
    "evaluator = UserCumulativeInteraction(\n",
    "    ground_truth_dataset=test_dataset,\n",
    "    num_interactions=100,\n",
    "    interaction_size=1,\n",
    "    interactions_to_evaluate=[5, 10, 20, 50, 100],\n",
    "    relevance_evaluator_threshold=3.99\n",
    ")"
   ]
  },
  {
   "cell_type": "code",
   "execution_count": null,
   "metadata": {},
   "outputs": [],
   "source": [
    "# Getting the results\n",
    "cumulative_results = {}\n",
    "for metric_class in [Hits, EPC, Recall, ILD]:\n",
    "    for agent_name, agent_results in interactions.items():\n",
    "        print(f\"\\nEvaluating {agent_name}\\n\")\n",
    "        metric_values = evaluator.evaluate(metric_class=metric_class, results=agent_results)\n",
    "        if metric_class.__name__ not in cumulative_results:\n",
    "            cumulative_results[metric_class.__name__] = {}\n",
    "        cumulative_results[metric_class.__name__].update({agent_name: metric_values})"
   ]
  },
  {
   "cell_type": "code",
   "execution_count": 24,
   "metadata": {},
   "outputs": [
    {
     "data": {
      "text/plain": [
       "dict_keys(['Hits', 'EPC', 'Recall', 'ILD'])"
      ]
     },
     "execution_count": 24,
     "metadata": {},
     "output_type": "execute_result"
    }
   ],
   "source": [
    "cumulative_results.keys()"
   ]
  },
  {
   "cell_type": "code",
   "execution_count": 25,
   "metadata": {},
   "outputs": [
    {
     "data": {
      "text/plain": [
       "dict_keys(['LinearUCB', 'MostPopular', 'EGreedy', 'EnsembleAgent'])"
      ]
     },
     "execution_count": 25,
     "metadata": {},
     "output_type": "execute_result"
    }
   ],
   "source": [
    "cumulative_results[\"Hits\"].keys()"
   ]
  },
  {
   "cell_type": "code",
   "execution_count": 26,
   "metadata": {},
   "outputs": [],
   "source": [
    "all_results = []\n",
    "for metric_name, agent_values in cumulative_results.items():\n",
    "    df_cumulative = pd.DataFrame(columns=[\"Model\", 5, 10, 20, 50, 100])\n",
    "    df_cumulative[\"Model\"] = list(agent_values.keys())\n",
    "    df_cumulative.set_index(\"Model\", inplace=True)\n",
    "    for agent_name, values in agent_values.items():\n",
    "        df_cumulative.loc[agent_name] = [\n",
    "            np.nanmean(list(metric_values.values())) for metric_values in values\n",
    "        ]\n",
    "    df_cumulative.columns = pd.MultiIndex.from_product([[metric_name], df_cumulative.columns])\n",
    "    all_results.append(df_cumulative)"
   ]
  },
  {
   "cell_type": "code",
   "execution_count": 27,
   "metadata": {},
   "outputs": [
    {
     "data": {
      "text/html": [
       "<div>\n",
       "<style scoped>\n",
       "    .dataframe tbody tr th:only-of-type {\n",
       "        vertical-align: middle;\n",
       "    }\n",
       "\n",
       "    .dataframe tbody tr th {\n",
       "        vertical-align: top;\n",
       "    }\n",
       "\n",
       "    .dataframe thead tr th {\n",
       "        text-align: left;\n",
       "    }\n",
       "\n",
       "    .dataframe thead tr:last-of-type th {\n",
       "        text-align: right;\n",
       "    }\n",
       "</style>\n",
       "<table border=\"1\" class=\"dataframe\">\n",
       "  <thead>\n",
       "    <tr>\n",
       "      <th></th>\n",
       "      <th colspan=\"5\" halign=\"left\">Hits</th>\n",
       "      <th colspan=\"5\" halign=\"left\">EPC</th>\n",
       "      <th colspan=\"5\" halign=\"left\">Recall</th>\n",
       "      <th colspan=\"5\" halign=\"left\">ILD</th>\n",
       "    </tr>\n",
       "    <tr>\n",
       "      <th></th>\n",
       "      <th>5</th>\n",
       "      <th>10</th>\n",
       "      <th>20</th>\n",
       "      <th>50</th>\n",
       "      <th>100</th>\n",
       "      <th>5</th>\n",
       "      <th>10</th>\n",
       "      <th>20</th>\n",
       "      <th>50</th>\n",
       "      <th>100</th>\n",
       "      <th>5</th>\n",
       "      <th>10</th>\n",
       "      <th>20</th>\n",
       "      <th>50</th>\n",
       "      <th>100</th>\n",
       "      <th>5</th>\n",
       "      <th>10</th>\n",
       "      <th>20</th>\n",
       "      <th>50</th>\n",
       "      <th>100</th>\n",
       "    </tr>\n",
       "    <tr>\n",
       "      <th>Model</th>\n",
       "      <th></th>\n",
       "      <th></th>\n",
       "      <th></th>\n",
       "      <th></th>\n",
       "      <th></th>\n",
       "      <th></th>\n",
       "      <th></th>\n",
       "      <th></th>\n",
       "      <th></th>\n",
       "      <th></th>\n",
       "      <th></th>\n",
       "      <th></th>\n",
       "      <th></th>\n",
       "      <th></th>\n",
       "      <th></th>\n",
       "      <th></th>\n",
       "      <th></th>\n",
       "      <th></th>\n",
       "      <th></th>\n",
       "      <th></th>\n",
       "    </tr>\n",
       "  </thead>\n",
       "  <tbody>\n",
       "    <tr>\n",
       "      <th>LinearUCB</th>\n",
       "      <td>2.058201</td>\n",
       "      <td>3.544974</td>\n",
       "      <td>6.396825</td>\n",
       "      <td>13.915344</td>\n",
       "      <td>22.941799</td>\n",
       "      <td>0.913138</td>\n",
       "      <td>0.922726</td>\n",
       "      <td>0.93468</td>\n",
       "      <td>0.947699</td>\n",
       "      <td>0.957061</td>\n",
       "      <td>0.061996</td>\n",
       "      <td>0.105512</td>\n",
       "      <td>0.179007</td>\n",
       "      <td>0.345512</td>\n",
       "      <td>0.527375</td>\n",
       "      <td>0.243138</td>\n",
       "      <td>0.280695</td>\n",
       "      <td>0.305294</td>\n",
       "      <td>0.329127</td>\n",
       "      <td>0.351707</td>\n",
       "    </tr>\n",
       "    <tr>\n",
       "      <th>MostPopular</th>\n",
       "      <td>1.666667</td>\n",
       "      <td>2.904762</td>\n",
       "      <td>5.126984</td>\n",
       "      <td>10.063492</td>\n",
       "      <td>16.703704</td>\n",
       "      <td>0.90456</td>\n",
       "      <td>0.911084</td>\n",
       "      <td>0.922276</td>\n",
       "      <td>0.938327</td>\n",
       "      <td>0.947497</td>\n",
       "      <td>0.04906</td>\n",
       "      <td>0.085504</td>\n",
       "      <td>0.13688</td>\n",
       "      <td>0.232438</td>\n",
       "      <td>0.365345</td>\n",
       "      <td>0.259048</td>\n",
       "      <td>0.282381</td>\n",
       "      <td>0.27854</td>\n",
       "      <td>0.291894</td>\n",
       "      <td>0.313466</td>\n",
       "    </tr>\n",
       "    <tr>\n",
       "      <th>EGreedy</th>\n",
       "      <td>1.132275</td>\n",
       "      <td>2.10582</td>\n",
       "      <td>3.650794</td>\n",
       "      <td>7.931217</td>\n",
       "      <td>13.724868</td>\n",
       "      <td>0.944704</td>\n",
       "      <td>0.947987</td>\n",
       "      <td>0.951702</td>\n",
       "      <td>0.956016</td>\n",
       "      <td>0.959761</td>\n",
       "      <td>0.027352</td>\n",
       "      <td>0.04694</td>\n",
       "      <td>0.078794</td>\n",
       "      <td>0.172411</td>\n",
       "      <td>0.300665</td>\n",
       "      <td>0.320149</td>\n",
       "      <td>0.321986</td>\n",
       "      <td>0.328036</td>\n",
       "      <td>0.34481</td>\n",
       "      <td>0.359484</td>\n",
       "    </tr>\n",
       "    <tr>\n",
       "      <th>EnsembleAgent</th>\n",
       "      <td>2.0</td>\n",
       "      <td>3.52381</td>\n",
       "      <td>6.402116</td>\n",
       "      <td>13.952381</td>\n",
       "      <td>22.925926</td>\n",
       "      <td>0.913026</td>\n",
       "      <td>0.920501</td>\n",
       "      <td>0.932376</td>\n",
       "      <td>0.945662</td>\n",
       "      <td>0.95518</td>\n",
       "      <td>0.056846</td>\n",
       "      <td>0.1033</td>\n",
       "      <td>0.179556</td>\n",
       "      <td>0.348687</td>\n",
       "      <td>0.533001</td>\n",
       "      <td>0.237881</td>\n",
       "      <td>0.278025</td>\n",
       "      <td>0.305048</td>\n",
       "      <td>0.328898</td>\n",
       "      <td>0.35107</td>\n",
       "    </tr>\n",
       "  </tbody>\n",
       "</table>\n",
       "</div>"
      ],
      "text/plain": [
       "                   Hits                                                 EPC  \\\n",
       "                    5         10        20         50         100       5     \n",
       "Model                                                                         \n",
       "LinearUCB      2.058201  3.544974  6.396825  13.915344  22.941799  0.913138   \n",
       "MostPopular    1.666667  2.904762  5.126984  10.063492  16.703704   0.90456   \n",
       "EGreedy        1.132275   2.10582  3.650794   7.931217  13.724868  0.944704   \n",
       "EnsembleAgent       2.0   3.52381  6.402116  13.952381  22.925926  0.913026   \n",
       "\n",
       "                                                         Recall            \\\n",
       "                    10        20        50        100       5         10    \n",
       "Model                                                                       \n",
       "LinearUCB      0.922726   0.93468  0.947699  0.957061  0.061996  0.105512   \n",
       "MostPopular    0.911084  0.922276  0.938327  0.947497   0.04906  0.085504   \n",
       "EGreedy        0.947987  0.951702  0.956016  0.959761  0.027352   0.04694   \n",
       "EnsembleAgent  0.920501  0.932376  0.945662   0.95518  0.056846    0.1033   \n",
       "\n",
       "                                                  ILD                      \\\n",
       "                    20        50        100       5         10        20    \n",
       "Model                                                                       \n",
       "LinearUCB      0.179007  0.345512  0.527375  0.243138  0.280695  0.305294   \n",
       "MostPopular     0.13688  0.232438  0.365345  0.259048  0.282381   0.27854   \n",
       "EGreedy        0.078794  0.172411  0.300665  0.320149  0.321986  0.328036   \n",
       "EnsembleAgent  0.179556  0.348687  0.533001  0.237881  0.278025  0.305048   \n",
       "\n",
       "                                   \n",
       "                    50        100  \n",
       "Model                              \n",
       "LinearUCB      0.329127  0.351707  \n",
       "MostPopular    0.291894  0.313466  \n",
       "EGreedy         0.34481  0.359484  \n",
       "EnsembleAgent  0.328898   0.35107  "
      ]
     },
     "execution_count": 27,
     "metadata": {},
     "output_type": "execute_result"
    }
   ],
   "source": [
    "all_results = pd.concat(all_results, axis=1)\n",
    "all_results"
   ]
  }
 ],
 "metadata": {
  "kernelspec": {
   "display_name": ".venv",
   "language": "python",
   "name": "python3"
  },
  "language_info": {
   "codemirror_mode": {
    "name": "ipython",
    "version": 3
   },
   "file_extension": ".py",
   "mimetype": "text/x-python",
   "name": "python",
   "nbconvert_exporter": "python",
   "pygments_lexer": "ipython3",
   "version": "3.8.10"
  },
  "orig_nbformat": 4
 },
 "nbformat": 4,
 "nbformat_minor": 2
}
